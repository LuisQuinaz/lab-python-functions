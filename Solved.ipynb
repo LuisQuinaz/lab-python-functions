{
 "cells": [
  {
   "cell_type": "markdown",
   "id": "25d7736c-ba17-4aff-b6bb-66eba20fbf4e",
   "metadata": {},
   "source": [
    "# Lab | Functions"
   ]
  },
  {
   "cell_type": "markdown",
   "id": "0c581062-8967-4d93-b06e-62833222f930",
   "metadata": {
    "tags": []
   },
   "source": [
    "## Exercise: Managing Customer Orders with Functions\n",
    "\n",
    "In the previous exercise, you improved the code for managing customer orders by using loops and flow control. Now, let's take it a step further and refactor the code by introducing functions.\n",
    "\n",
    "Follow the steps below to complete the exercise:\n",
    "\n",
    "1. Define a function named `initialize_inventory` that takes `products` as a parameter. Inside the function, implement the code for initializing the inventory dictionary using a loop and user input.\n",
    "\n",
    "2. Define a function named `get_customer_orders` that takes no parameters. Inside the function, implement the code for prompting the user to enter the product names using a loop. The function should return the `customer_orders` set.\n",
    "\n",
    "3. Define a function named `update_inventory` that takes `customer_orders` and `inventory` as parameters. Inside the function, implement the code for updating the inventory dictionary based on the customer orders.\n",
    "\n",
    "4. Define a function named `calculate_order_statistics` that takes `customer_orders` and `products` as parameters. Inside the function, implement the code for calculating the order statistics (total products ordered, and percentage of unique products ordered). The function should return these values.\n",
    "\n",
    "5. Define a function named `print_order_statistics` that takes `order_statistics` as a parameter. Inside the function, implement the code for printing the order statistics.\n",
    "\n",
    "6. Define a function named `print_updated_inventory` that takes `inventory` as a parameter. Inside the function, implement the code for printing the updated inventory.\n",
    "\n",
    "7. Call the functions in the appropriate sequence to execute the program and manage customer orders.\n",
    "\n",
    "Hints for functions:\n",
    "\n",
    "- Consider the input parameters required for each function and their return values.\n",
    "- Utilize function parameters and return values to transfer data between functions.\n",
    "- Test your functions individually to ensure they work correctly.\n",
    "\n",
    "\n"
   ]
  },
  {
   "cell_type": "code",
   "execution_count": 27,
   "id": "3065a424-e87f-44b5-b343-813fcb6e617a",
   "metadata": {},
   "outputs": [],
   "source": [
    "def initialize_inventory(products):\n",
    "    inventory = {}\n",
    "\n",
    "    for product in products:\n",
    "        quantity = int(input(f\"Enter quantity for {product}: \"))\n",
    "        inventory[product] = quantity\n",
    "    \n",
    "\n",
    "    return(inventory)"
   ]
  },
  {
   "cell_type": "code",
   "execution_count": 50,
   "id": "e3add048-1c19-48a4-b0b8-1070357c9cc2",
   "metadata": {},
   "outputs": [],
   "source": [
    "def get_custom_orders():\n",
    "    customer_orders = []\n",
    "\n",
    "    customer_orders.append(input(\"Which product do you want to order? \"))\n",
    "\n",
    "    more_order = input(\"Do you want to add another product? yes/no \").upper()\n",
    "\n",
    "    while more_order == \"YES\":\n",
    "        customer_orders.append(input(\"Which Product you want to order? \"))\n",
    "        more_order = input(\"Do you want to add another product? yes/no \").upper()\n",
    "        if more_order == \"NO\":\n",
    "            break\n",
    "    return customer_orders"
   ]
  },
  {
   "cell_type": "code",
   "execution_count": 51,
   "id": "18e6871a-9387-49d8-97a3-eedca6b7720a",
   "metadata": {},
   "outputs": [],
   "source": [
    "def update_inventory (customer_orders, inventory):\n",
    "    for x in customer_orders:\n",
    "        inventory[x] -= 1"
   ]
  },
  {
   "cell_type": "code",
   "execution_count": 52,
   "id": "3f4ed2e3-3e1f-45c3-bed7-e7d85f21f732",
   "metadata": {},
   "outputs": [],
   "source": [
    "def calculate_order_statistics(customer_orders, products):\n",
    "    total_products_ordered = len(customer_orders)\n",
    "    total_available_products = len(products)\n",
    "    percentage_of_products_ordered = total_products_ordered / total_available_products *100\n",
    "\n",
    "#Order Statistics:\n",
    "    print(f\"Total Products Ordered: {total_products_ordered}\")\n",
    "    print(f\"Percentage of Products Ordered: {percentage_of_products_ordered}%\")\n",
    "    "
   ]
  },
  {
   "cell_type": "code",
   "execution_count": 53,
   "id": "ad0ff4ba-4524-4ea8-9cfa-111268f899e3",
   "metadata": {},
   "outputs": [],
   "source": [
    "def print_updated_inventory(inventory):\n",
    "    print(inventory)"
   ]
  },
  {
   "cell_type": "markdown",
   "id": "bcbe0eb3-8c4c-4535-b0a1-025e83fba63e",
   "metadata": {},
   "source": [
    "Define a function named calculate_order_statistics that takes customer_orders and products as parameters. Inside the function, implement the code for calculating the order statistics (total products ordered, and percentage of unique products ordered). The function should return these values."
   ]
  },
  {
   "cell_type": "code",
   "execution_count": 54,
   "id": "5460130d-ef13-4e81-a53b-2f807b161df4",
   "metadata": {},
   "outputs": [
    {
     "name": "stdin",
     "output_type": "stream",
     "text": [
      "Enter quantity for t-shirt:  10\n",
      "Enter quantity for mug:  10\n",
      "Enter quantity for hat:  10\n",
      "Enter quantity for book:  10\n",
      "Enter quantity for keychain:  10\n",
      "Which product do you want to order?  hat\n",
      "Do you want to add another product? yes/no  yes\n",
      "Which Product you want to order?  hat\n",
      "Do you want to add another product? yes/no  yes\n",
      "Which Product you want to order?  mug\n",
      "Do you want to add another product? yes/no  no\n"
     ]
    },
    {
     "name": "stdout",
     "output_type": "stream",
     "text": [
      "Total Products Ordered: 3\n",
      "Percentage of Products Ordered: 60.0%\n",
      "{'t-shirt': 10, 'mug': 9, 'hat': 8, 'book': 10, 'keychain': 10}\n"
     ]
    }
   ],
   "source": [
    "products = [\"t-shirt\", \"mug\", \"hat\", \"book\", \"keychain\"]\n",
    "inventory = initialize_inventory(products)\n",
    "\n",
    "customer_orders = get_custom_orders()\n",
    "\n",
    "calculate_order_statistics(customer_orders, products)\n",
    "\n",
    "update_inventory(customer_orders,inventory)\n",
    "print_updated_inventory(inventory)"
   ]
  },
  {
   "cell_type": "code",
   "execution_count": null,
   "id": "b7ef7d02-56ba-48bf-bc38-af4c24933491",
   "metadata": {},
   "outputs": [],
   "source": []
  }
 ],
 "metadata": {
  "kernelspec": {
   "display_name": "Python 3 (ipykernel)",
   "language": "python",
   "name": "python3"
  },
  "language_info": {
   "codemirror_mode": {
    "name": "ipython",
    "version": 3
   },
   "file_extension": ".py",
   "mimetype": "text/x-python",
   "name": "python",
   "nbconvert_exporter": "python",
   "pygments_lexer": "ipython3",
   "version": "3.12.4"
  }
 },
 "nbformat": 4,
 "nbformat_minor": 5
}
